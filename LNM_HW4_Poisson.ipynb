{
 "cells": [
  {
   "cell_type": "markdown",
   "metadata": {},
   "source": [
    "## Linear & Non-Linear Models - Homework #4\n",
    "### Luke Schwenke\n",
    "### February 15, 2023"
   ]
  },
  {
   "cell_type": "code",
   "execution_count": 61,
   "metadata": {},
   "outputs": [],
   "source": [
    "import os\n",
    "import pandas as pd\n",
    "import seaborn as sea\n",
    "import numpy as np\n",
    "import math\n",
    "from patsy import dmatrices\n",
    "import matplotlib.pyplot as plt\n",
    "import statsmodels.api as sm\n",
    "from statsmodels.formula.api import glm"
   ]
  },
  {
   "cell_type": "code",
   "execution_count": 62,
   "metadata": {},
   "outputs": [],
   "source": [
    "os.getcwd()\n",
    "os.chdir('/Users/lmschwenke/Downloads')"
   ]
  },
  {
   "cell_type": "code",
   "execution_count": 63,
   "metadata": {},
   "outputs": [
    {
     "data": {
      "text/html": [
       "<div>\n",
       "<style scoped>\n",
       "    .dataframe tbody tr th:only-of-type {\n",
       "        vertical-align: middle;\n",
       "    }\n",
       "\n",
       "    .dataframe tbody tr th {\n",
       "        vertical-align: top;\n",
       "    }\n",
       "\n",
       "    .dataframe thead th {\n",
       "        text-align: right;\n",
       "    }\n",
       "</style>\n",
       "<table border=\"1\" class=\"dataframe\">\n",
       "  <thead>\n",
       "    <tr style=\"text-align: right;\">\n",
       "      <th></th>\n",
       "      <th>car</th>\n",
       "      <th>outdoor_activity</th>\n",
       "      <th>chronic_disease</th>\n",
       "      <th>household_history</th>\n",
       "      <th>gym</th>\n",
       "      <th>ER_visit</th>\n",
       "    </tr>\n",
       "  </thead>\n",
       "  <tbody>\n",
       "    <tr>\n",
       "      <th>0</th>\n",
       "      <td>1</td>\n",
       "      <td>0.0</td>\n",
       "      <td>0.0</td>\n",
       "      <td>1</td>\n",
       "      <td>0</td>\n",
       "      <td>0</td>\n",
       "    </tr>\n",
       "    <tr>\n",
       "      <th>1</th>\n",
       "      <td>0</td>\n",
       "      <td>1.0</td>\n",
       "      <td>1.0</td>\n",
       "      <td>1</td>\n",
       "      <td>0</td>\n",
       "      <td>0</td>\n",
       "    </tr>\n",
       "    <tr>\n",
       "      <th>2</th>\n",
       "      <td>0</td>\n",
       "      <td>1.0</td>\n",
       "      <td>0.0</td>\n",
       "      <td>1</td>\n",
       "      <td>0</td>\n",
       "      <td>0</td>\n",
       "    </tr>\n",
       "    <tr>\n",
       "      <th>3</th>\n",
       "      <td>0</td>\n",
       "      <td>1.0</td>\n",
       "      <td>1.0</td>\n",
       "      <td>2</td>\n",
       "      <td>1</td>\n",
       "      <td>0</td>\n",
       "    </tr>\n",
       "    <tr>\n",
       "      <th>4</th>\n",
       "      <td>0</td>\n",
       "      <td>1.0</td>\n",
       "      <td>0.0</td>\n",
       "      <td>1</td>\n",
       "      <td>0</td>\n",
       "      <td>1</td>\n",
       "    </tr>\n",
       "    <tr>\n",
       "      <th>5</th>\n",
       "      <td>0</td>\n",
       "      <td>1.0</td>\n",
       "      <td>1.0</td>\n",
       "      <td>4</td>\n",
       "      <td>2</td>\n",
       "      <td>0</td>\n",
       "    </tr>\n",
       "    <tr>\n",
       "      <th>6</th>\n",
       "      <td>0</td>\n",
       "      <td>1.0</td>\n",
       "      <td>0.0</td>\n",
       "      <td>3</td>\n",
       "      <td>1</td>\n",
       "      <td>0</td>\n",
       "    </tr>\n",
       "    <tr>\n",
       "      <th>7</th>\n",
       "      <td>0</td>\n",
       "      <td>1.0</td>\n",
       "      <td>0.0</td>\n",
       "      <td>4</td>\n",
       "      <td>3</td>\n",
       "      <td>0</td>\n",
       "    </tr>\n",
       "    <tr>\n",
       "      <th>8</th>\n",
       "      <td>1</td>\n",
       "      <td>0.0</td>\n",
       "      <td>1.0</td>\n",
       "      <td>3</td>\n",
       "      <td>2</td>\n",
       "      <td>0</td>\n",
       "    </tr>\n",
       "    <tr>\n",
       "      <th>9</th>\n",
       "      <td>0</td>\n",
       "      <td>1.0</td>\n",
       "      <td>1.0</td>\n",
       "      <td>1</td>\n",
       "      <td>0</td>\n",
       "      <td>1</td>\n",
       "    </tr>\n",
       "  </tbody>\n",
       "</table>\n",
       "</div>"
      ],
      "text/plain": [
       "   car  outdoor_activity  chronic_disease  household_history  gym  ER_visit\n",
       "0    1               0.0              0.0                  1    0         0\n",
       "1    0               1.0              1.0                  1    0         0\n",
       "2    0               1.0              0.0                  1    0         0\n",
       "3    0               1.0              1.0                  2    1         0\n",
       "4    0               1.0              0.0                  1    0         1\n",
       "5    0               1.0              1.0                  4    2         0\n",
       "6    0               1.0              0.0                  3    1         0\n",
       "7    0               1.0              0.0                  4    3         0\n",
       "8    1               0.0              1.0                  3    2         0\n",
       "9    0               1.0              1.0                  1    0         1"
      ]
     },
     "execution_count": 63,
     "metadata": {},
     "output_type": "execute_result"
    }
   ],
   "source": [
    "df = pd.read_csv('ER_visit.csv')\n",
    "df.head(10)"
   ]
  },
  {
   "cell_type": "markdown",
   "metadata": {},
   "source": [
    "## A - Seaborn Dist. Plot"
   ]
  },
  {
   "cell_type": "code",
   "execution_count": 64,
   "metadata": {},
   "outputs": [
    {
     "data": {
      "image/png": "[encoded data removed]",
      "text/plain": [
       "<Figure size 360x360 with 1 Axes>"
      ]
     },
     "metadata": {
      "needs_background": "light"
     },
     "output_type": "display_data"
    }
   ],
   "source": [
    "sea.displot(df['ER_visit'], color='purple')\n",
    "plt.show()"
   ]
  },
  {
   "cell_type": "markdown",
   "metadata": {},
   "source": [
    "## B - Poisson"
   ]
  },
  {
   "cell_type": "code",
   "execution_count": 65,
   "metadata": {},
   "outputs": [
    {
     "name": "stdout",
     "output_type": "stream",
     "text": [
      "                 Generalized Linear Model Regression Results                  \n",
      "==============================================================================\n",
      "Dep. Variable:               ER_visit   No. Observations:                  402\n",
      "Model:                            GLM   Df Residuals:                      396\n",
      "Model Family:                 Poisson   Df Model:                            5\n",
      "Link Function:                    Log   Scale:                          1.0000\n",
      "Method:                          IRLS   Log-Likelihood:                -1260.0\n",
      "Date:                Tue, 14 Feb 2023   Deviance:                       1870.0\n",
      "Time:                        15:26:02   Pearson chi2:                 2.50e+03\n",
      "No. Iterations:                     6   Pseudo R-squ. (CS):             0.8185\n",
      "Covariance Type:            nonrobust                                         \n",
      "=====================================================================================\n",
      "                        coef    std err          z      P>|z|      [0.025      0.975]\n",
      "-------------------------------------------------------------------------------------\n",
      "Intercept            -1.0747      0.126     -8.511      0.000      -1.322      -0.827\n",
      "car                   0.3466      0.067      5.147      0.000       0.215       0.479\n",
      "outdoor_activity      0.5464      0.067      8.171      0.000       0.415       0.677\n",
      "chronic_disease       0.0131      0.007      1.995      0.046       0.000       0.026\n",
      "household_history     0.6732      0.033     20.431      0.000       0.609       0.738\n",
      "gym                  -0.6867      0.038    -17.858      0.000      -0.762      -0.611\n",
      "=====================================================================================\n"
     ]
    }
   ],
   "source": [
    "model = glm('ER_visit ~ car + outdoor_activity + chronic_disease + household_history + gym', data = df, family = sm.families.Poisson()).fit()\n",
    "print(model.summary())"
   ]
  },
  {
   "cell_type": "code",
   "execution_count": 66,
   "metadata": {},
   "outputs": [
    {
     "data": {
      "text/plain": [
       "Intercept            0.341408\n",
       "car                  1.414269\n",
       "outdoor_activity     1.727049\n",
       "chronic_disease      1.013159\n",
       "household_history    1.960575\n",
       "gym                  0.503210\n",
       "dtype: float64"
      ]
     },
     "execution_count": 66,
     "metadata": {},
     "output_type": "execute_result"
    }
   ],
   "source": [
    "np.exp(model.params)"
   ]
  },
  {
   "cell_type": "markdown",
   "metadata": {},
   "source": [
    "### Poisson Interpretation\n",
    "\n",
    "Since all the parameters are on the log scale we need to exponentiate to obtain the response function in terms of lambda.\n",
    "\n",
    "* car - for a 1-unit increase in car the mean response (lambda) of ER visits will multiply by 1.41, or increase 41% in the estimated # of ER visits \n",
    "* outdoor_activity - for a 1-unit increase in outdoor activity the mean response (lambda) of ER visits will multiply by 1.73, or increase 73% in the estimated # of ER visits\n",
    "* chronic_disease - for a 1-unit increase in chronic disease the mean response (lambda) of ER visits will multiply by 1.01, or increase 1% in the estimated # of ER visits\n",
    "* household_history - for a 1-unit increase in household history the mean response (lambda) of ER visits will multiply by 1.86, or increase 96% in the estimated # of ER visits\n",
    "* gym - for a 1-unit increase in gym the mean response (lambda) of ER visits will multiply by 0.5"
   ]
  },
  {
   "cell_type": "markdown",
   "metadata": {},
   "source": [
    "## C - Negative Binomial"
   ]
  },
  {
   "cell_type": "code",
   "execution_count": 67,
   "metadata": {},
   "outputs": [
    {
     "name": "stdout",
     "output_type": "stream",
     "text": [
      "                 Generalized Linear Model Regression Results                  \n",
      "==============================================================================\n",
      "Dep. Variable:               ER_visit   No. Observations:                  402\n",
      "Model:                            GLM   Df Residuals:                      396\n",
      "Model Family:        NegativeBinomial   Df Model:                            5\n",
      "Link Function:                    Log   Scale:                          1.0000\n",
      "Method:                          IRLS   Log-Likelihood:                -776.10\n",
      "Date:                Tue, 14 Feb 2023   Deviance:                       566.12\n",
      "Time:                        15:26:02   Pearson chi2:                     816.\n",
      "No. Iterations:                    20   Pseudo R-squ. (CS):             0.4233\n",
      "Covariance Type:            nonrobust                                         \n",
      "=====================================================================================\n",
      "                        coef    std err          z      P>|z|      [0.025      0.975]\n",
      "-------------------------------------------------------------------------------------\n",
      "Intercept            -2.0388      0.252     -8.075      0.000      -2.534      -1.544\n",
      "car                   0.8725      0.139      6.275      0.000       0.600       1.145\n",
      "outdoor_activity      1.2131      0.163      7.442      0.000       0.894       1.533\n",
      "chronic_disease      -0.0043      0.014     -0.310      0.757      -0.032       0.023\n",
      "household_history     0.7199      0.069     10.399      0.000       0.584       0.856\n",
      "gym                  -0.8910      0.081    -10.936      0.000      -1.051      -0.731\n",
      "=====================================================================================\n"
     ]
    }
   ],
   "source": [
    "neg_binom = glm('ER_visit ~ car + outdoor_activity + chronic_disease + household_history + gym', data = df,family = sm.families.NegativeBinomial(alpha = 0.94)).fit()\n",
    "print(neg_binom.summary())"
   ]
  },
  {
   "cell_type": "code",
   "execution_count": 68,
   "metadata": {},
   "outputs": [
    {
     "data": {
      "text/plain": [
       "Intercept            0.130185\n",
       "car                  2.392984\n",
       "outdoor_activity     3.363810\n",
       "chronic_disease      0.995697\n",
       "household_history    2.054253\n",
       "gym                  0.410256\n",
       "dtype: float64"
      ]
     },
     "execution_count": 68,
     "metadata": {},
     "output_type": "execute_result"
    }
   ],
   "source": [
    "np.exp(neg_binom.params)"
   ]
  },
  {
   "cell_type": "code",
   "execution_count": 69,
   "metadata": {},
   "outputs": [
    {
     "name": "stdout",
     "output_type": "stream",
     "text": [
      "Sample mean: 2.79\n",
      "Sample variance: 29.48\n",
      "Ratio: 10.57\n",
      "^ This oberserved effect is overdispersion\n",
      "The poisson dispersion ratio = 6.316\n",
      "The negative binomial dispersion ratio = 2.06\n"
     ]
    }
   ],
   "source": [
    "# OVERDISPERSION CALCULATION\n",
    "\n",
    "# Compute and print sample mean \n",
    "er_mean = np.mean(df.ER_visit)\n",
    "print('Sample mean:', round(er_mean, 2))\n",
    "\n",
    "# Compute and print sample variance of the number of satellites: sat_var\n",
    "er_var = np.var(df.ER_visit)\n",
    "print('Sample variance:', round(er_var, 2))\n",
    "\n",
    "# Compute ratio of variance to mean\n",
    "print('Ratio:', round(er_var/er_mean, 3))\n",
    "print('^ This oberserved effect is overdispersion')\n",
    "\n",
    "\n",
    "poisson_dispersion_ratio = model.pearson_chi2/model.df_resid\n",
    "print('The poisson dispersion ratio =', round(poisson_dispersion_ratio,3))\n",
    "\n",
    "negbinom_dispersion_ratio = neg_binom.pearson_chi2/neg_binom.df_resid\n",
    "print('The negative binomial dispersion ratio =', round(negbinom_dispersion_ratio,3))"
   ]
  },
  {
   "cell_type": "markdown",
   "metadata": {},
   "source": [
    "### Differences Between Poisson & Negative Binomial\n",
    "\n",
    "* When comparing the poisson model results with the negative binomial results we can see, in general, some of the negative binomial model parameters have a larger multiplicative effect on the mean response of ER visits (lambda). In other words, this model will predict higher chances of ER visits with the same variables. E.g., the poisson model had a 1 -unit increase in car increase the mean response by a multiple of 1.41, but the negative binomial shows it increasing by 2.39. \n",
    "* Other variables like chronic disease and gym actually have a lower multiplactive effect compared to their poisson counterpart. \n",
    "* Overall the models are giving varying weight to different parameters as they predict ER visits.\n",
    "\n",
    "**Overdispersion**\n",
    "\n",
    "* The poisson disperion ratio is 6.3\n",
    "* The negative binomial dispersion ratio is 2.1\n",
    "* Conclusion: Since both values are over 1, we can conlude that there is overdispersion for both models. This means that the mean is not equal to the variance and that the assumption that these values are equal is violated.\n"
   ]
  },
  {
   "cell_type": "markdown",
   "metadata": {},
   "source": [
    "## D - Zero-Inflation"
   ]
  },
  {
   "cell_type": "code",
   "execution_count": 70,
   "metadata": {},
   "outputs": [
    {
     "name": "stdout",
     "output_type": "stream",
     "text": [
      "Expected zero counts given mean of  2.789 is  6.2\n",
      "Actual zero counts in the sample:  48.5\n"
     ]
    }
   ],
   "source": [
    "# Expected number of zero counts\n",
    "ER_mean = np.mean(df['ER_visit'])\n",
    "exp_zero_cnt = ((ER_mean**0)*np.exp(-ER_mean))/math.factorial(0)\n",
    "\n",
    "# Print exp_zero_counts\n",
    "print('Expected zero counts given mean of ', round(ER_mean,3), \n",
    "      'is ', round(exp_zero_cnt,3)*100)\n",
    "\n",
    "# Number of zero counts in ER_visit variable\n",
    "actual_zero_ant = sum(df['ER_visit'] == 0)\n",
    "\n",
    "# Number of observations in dataset\n",
    "num_obs = len(df)\n",
    "\n",
    "# Print the percentage of zero count observations in the sample\n",
    "print('Actual zero counts in the sample: ', round(actual_zero_ant / num_obs,3)*100)"
   ]
  },
  {
   "cell_type": "markdown",
   "metadata": {},
   "source": [
    "We would expect our zero counts to be 6.2 given an ER visit mean value of 2.789%. This is much lower than the actual zero counts in the sample at 48.5%"
   ]
  },
  {
   "cell_type": "markdown",
   "metadata": {},
   "source": [
    "## E - Training Zero-Inflated Poisson"
   ]
  },
  {
   "cell_type": "code",
   "execution_count": 74,
   "metadata": {},
   "outputs": [
    {
     "name": "stdout",
     "output_type": "stream",
     "text": [
      "Training data set length=320\n",
      "Testing data set length=82\n",
      "Warning: Maximum number of iterations has been exceeded.\n",
      "         Current function value: 2.135406\n",
      "         Iterations: 35\n",
      "         Function evaluations: 39\n",
      "         Gradient evaluations: 39\n",
      "                     ZeroInflatedPoisson Regression Results                    \n",
      "===============================================================================\n",
      "Dep. Variable:                ER_visit   No. Observations:                  320\n",
      "Model:             ZeroInflatedPoisson   Df Residuals:                      314\n",
      "Method:                            MLE   Df Model:                            5\n",
      "Date:                 Tue, 14 Feb 2023   Pseudo R-squ.:                  0.2476\n",
      "Time:                         15:33:08   Log-Likelihood:                -683.33\n",
      "converged:                       False   LL-Null:                       -908.16\n",
      "Covariance Type:             nonrobust   LLR p-value:                 5.841e-95\n",
      "=============================================================================================\n",
      "                                coef    std err          z      P>|z|      [0.025      0.975]\n",
      "---------------------------------------------------------------------------------------------\n",
      "inflate_Intercept             2.9544      3.201      0.923      0.356      -3.319       9.228\n",
      "inflate_car                 -14.1221      4.105     -3.440      0.001     -22.168      -6.077\n",
      "inflate_outdoor_activity     -1.6556      3.295     -0.502      0.615      -8.114       4.803\n",
      "inflate_chronic_disease       0.1675      0.213      0.785      0.433      -0.251       0.586\n",
      "inflate_household_history    -0.9759      0.228     -4.274      0.000      -1.423      -0.528\n",
      "inflate_gym                   2.1391      0.412      5.194      0.000       1.332       2.946\n",
      "Intercept                     0.4817      0.173      2.789      0.005       0.143       0.820\n",
      "car                          -1.5703      0.147    -10.673      0.000      -1.859      -1.282\n",
      "outdoor_activity              0.0833      0.117      0.712      0.476      -0.146       0.313\n",
      "chronic_disease               0.0744      0.012      6.267      0.000       0.051       0.098\n",
      "household_history             0.5000      0.039     12.866      0.000       0.424       0.576\n",
      "gym                          -0.3537      0.047     -7.499      0.000      -0.446      -0.261\n",
      "=============================================================================================\n"
     ]
    },
    {
     "name": "stderr",
     "output_type": "stream",
     "text": [
      "/Users/lmschwenke/opt/anaconda3/lib/python3.9/site-packages/statsmodels/base/model.py:604: ConvergenceWarning: Maximum Likelihood optimization failed to converge. Check mle_retvals\n",
      "  warnings.warn(\"Maximum Likelihood optimization failed to \"\n",
      "/Users/lmschwenke/opt/anaconda3/lib/python3.9/site-packages/statsmodels/base/model.py:604: ConvergenceWarning: Maximum Likelihood optimization failed to converge. Check mle_retvals\n",
      "  warnings.warn(\"Maximum Likelihood optimization failed to \"\n"
     ]
    }
   ],
   "source": [
    "np.random.seed(42)\n",
    "\n",
    "tst = np.random.rand(len(df)) < 0.8\n",
    "df_train = df[tst]\n",
    "df_test = df[~tst]\n",
    "print('Training data set length='+str(len(df_train)))\n",
    "print('Testing data set length='+str(len(df_test)))\n",
    "\n",
    "# Create model expression\n",
    "expr = 'ER_visit ~ car + outdoor_activity + chronic_disease + household_history + gym'\n",
    "\n",
    "y_train, X_train = dmatrices(expr, df_train, return_type='dataframe')\n",
    "y_test, X_test = dmatrices(expr, df_test, return_type='dataframe')\n",
    "\n",
    "# Fit Zero Inflated Poisson\n",
    "zip_training_results = sm.ZeroInflatedPoisson(endog=y_train, exog=X_train, exog_infl=X_train, inflation='logit').fit()\n",
    "\n",
    "print(zip_training_results.summary())"
   ]
  },
  {
   "cell_type": "code",
   "execution_count": 75,
   "metadata": {},
   "outputs": [
    {
     "name": "stdout",
     "output_type": "stream",
     "text": [
      "ZIP RMSE=37.36308338453881\n"
     ]
    }
   ],
   "source": [
    "zip_predictions = zip_training_results.predict(X_test, exog_infl=X_test)\n",
    "predicted_counts=np.round(zip_predictions)\n",
    "actual_counts = y_test['ER_visit']\n",
    "\n",
    "print('ZIP RMSE='+str(np.sqrt(np.sum(np.power(np.subtract(predicted_counts, actual_counts),2)))))"
   ]
  },
  {
   "cell_type": "markdown",
   "metadata": {},
   "source": [
    "**RMSE of Zero Inflated Poisson** = 37.36"
   ]
  },
  {
   "cell_type": "code",
   "execution_count": 76,
   "metadata": {},
   "outputs": [
    {
     "data": {
      "image/png": "[encoded data removed]",
      "text/plain": [
       "<Figure size 432x288 with 1 Axes>"
      ]
     },
     "metadata": {
      "needs_background": "light"
     },
     "output_type": "display_data"
    }
   ],
   "source": [
    "fig = plt.figure()\n",
    "fig.suptitle('Predicted versus actual counts using the Zero-Inflated Poisson model')\n",
    "predicted, = plt.plot(X_test.index, predicted_counts, 'go-', label='Predicted')\n",
    "actual, = plt.plot(X_test.index, actual_counts, 'ro-', label='Actual')\n",
    "plt.legend(handles=[predicted, actual])\n",
    "plt.show()"
   ]
  },
  {
   "cell_type": "markdown",
   "metadata": {},
   "source": []
  }
 ],
 "metadata": {
  "kernelspec": {
   "display_name": "Python 3 (ipykernel)",
   "language": "python",
   "name": "python3"
  },
  "language_info": {
   "codemirror_mode": {
    "name": "ipython",
    "version": 3
   },
   "file_extension": ".py",
   "mimetype": "text/x-python",
   "name": "python",
   "nbconvert_exporter": "python",
   "pygments_lexer": "ipython3",
   "version": "3.9.12"
  },
  "vscode": {
   "interpreter": {
    "hash": "1994d8e81cb0573466fb4f261790ebbd757e052db9377578bee9009cc85613bd"
   }
  }
 },
 "nbformat": 4,
 "nbformat_minor": 2
}
