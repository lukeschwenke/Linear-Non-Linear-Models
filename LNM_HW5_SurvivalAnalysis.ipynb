{
 "cells": [
  {
   "cell_type": "markdown",
   "metadata": {},
   "source": [
    "# Linear & Non-Linear Models\n",
    "### Assignment #5 - Survival Analysis\n",
    "### Luke Schwenke\n",
    "### February 22, 2023"
   ]
  },
  {
   "cell_type": "markdown",
   "metadata": {},
   "source": [
    "### Part A"
   ]
  },
  {
   "cell_type": "code",
   "execution_count": 20,
   "metadata": {},
   "outputs": [],
   "source": [
    "import pandas as pd\n",
    "import numpy as np\n",
    "import matplotlib.pyplot as plt\n",
    "import lifelines\n",
    "from lifelines import KaplanMeierFitter"
   ]
  },
  {
   "cell_type": "code",
   "execution_count": 33,
   "metadata": {},
   "outputs": [],
   "source": [
    "# Read data\n",
    "df = pd.read_csv('cancer.csv')\n",
    "\n",
    "# Replace NAs with the mean of each column\n",
    "df = df.fillna(df.mean())"
   ]
  },
  {
   "cell_type": "code",
   "execution_count": 16,
   "metadata": {},
   "outputs": [
    {
     "data": {
      "text/plain": [
       "dtype('int64')"
      ]
     },
     "execution_count": 16,
     "metadata": {},
     "output_type": "execute_result"
    }
   ],
   "source": [
    "df.status.dtype"
   ]
  },
  {
   "cell_type": "code",
   "execution_count": 35,
   "metadata": {},
   "outputs": [
    {
     "data": {
      "text/html": [
       "<div>\n",
       "<style scoped>\n",
       "    .dataframe tbody tr th:only-of-type {\n",
       "        vertical-align: middle;\n",
       "    }\n",
       "\n",
       "    .dataframe tbody tr th {\n",
       "        vertical-align: top;\n",
       "    }\n",
       "\n",
       "    .dataframe thead th {\n",
       "        text-align: right;\n",
       "    }\n",
       "</style>\n",
       "<table border=\"1\" class=\"dataframe\">\n",
       "  <thead>\n",
       "    <tr style=\"text-align: right;\">\n",
       "      <th></th>\n",
       "      <th>Unnamed: 0</th>\n",
       "      <th>inst</th>\n",
       "      <th>time</th>\n",
       "      <th>status</th>\n",
       "      <th>age</th>\n",
       "      <th>sex</th>\n",
       "      <th>ph.ecog</th>\n",
       "      <th>ph.karno</th>\n",
       "      <th>pat.karno</th>\n",
       "      <th>meal.cal</th>\n",
       "      <th>wt.loss</th>\n",
       "      <th>dead</th>\n",
       "    </tr>\n",
       "  </thead>\n",
       "  <tbody>\n",
       "    <tr>\n",
       "      <th>0</th>\n",
       "      <td>1</td>\n",
       "      <td>3.0</td>\n",
       "      <td>306</td>\n",
       "      <td>2</td>\n",
       "      <td>74</td>\n",
       "      <td>1</td>\n",
       "      <td>1.0</td>\n",
       "      <td>90.0</td>\n",
       "      <td>100.0</td>\n",
       "      <td>1175.000000</td>\n",
       "      <td>9.831776</td>\n",
       "      <td>1</td>\n",
       "    </tr>\n",
       "    <tr>\n",
       "      <th>1</th>\n",
       "      <td>2</td>\n",
       "      <td>3.0</td>\n",
       "      <td>455</td>\n",
       "      <td>2</td>\n",
       "      <td>68</td>\n",
       "      <td>1</td>\n",
       "      <td>0.0</td>\n",
       "      <td>90.0</td>\n",
       "      <td>90.0</td>\n",
       "      <td>1225.000000</td>\n",
       "      <td>15.000000</td>\n",
       "      <td>1</td>\n",
       "    </tr>\n",
       "    <tr>\n",
       "      <th>2</th>\n",
       "      <td>3</td>\n",
       "      <td>3.0</td>\n",
       "      <td>1010</td>\n",
       "      <td>1</td>\n",
       "      <td>56</td>\n",
       "      <td>1</td>\n",
       "      <td>0.0</td>\n",
       "      <td>90.0</td>\n",
       "      <td>90.0</td>\n",
       "      <td>928.779006</td>\n",
       "      <td>15.000000</td>\n",
       "      <td>0</td>\n",
       "    </tr>\n",
       "    <tr>\n",
       "      <th>3</th>\n",
       "      <td>4</td>\n",
       "      <td>5.0</td>\n",
       "      <td>210</td>\n",
       "      <td>2</td>\n",
       "      <td>57</td>\n",
       "      <td>1</td>\n",
       "      <td>1.0</td>\n",
       "      <td>90.0</td>\n",
       "      <td>60.0</td>\n",
       "      <td>1150.000000</td>\n",
       "      <td>11.000000</td>\n",
       "      <td>1</td>\n",
       "    </tr>\n",
       "    <tr>\n",
       "      <th>4</th>\n",
       "      <td>5</td>\n",
       "      <td>1.0</td>\n",
       "      <td>883</td>\n",
       "      <td>2</td>\n",
       "      <td>60</td>\n",
       "      <td>1</td>\n",
       "      <td>0.0</td>\n",
       "      <td>100.0</td>\n",
       "      <td>90.0</td>\n",
       "      <td>928.779006</td>\n",
       "      <td>0.000000</td>\n",
       "      <td>1</td>\n",
       "    </tr>\n",
       "  </tbody>\n",
       "</table>\n",
       "</div>"
      ],
      "text/plain": [
       "   Unnamed: 0  inst  time  status  age  sex  ph.ecog  ph.karno  pat.karno  \\\n",
       "0           1   3.0   306       2   74    1      1.0      90.0      100.0   \n",
       "1           2   3.0   455       2   68    1      0.0      90.0       90.0   \n",
       "2           3   3.0  1010       1   56    1      0.0      90.0       90.0   \n",
       "3           4   5.0   210       2   57    1      1.0      90.0       60.0   \n",
       "4           5   1.0   883       2   60    1      0.0     100.0       90.0   \n",
       "\n",
       "      meal.cal    wt.loss  dead  \n",
       "0  1175.000000   9.831776     1  \n",
       "1  1225.000000  15.000000     1  \n",
       "2   928.779006  15.000000     0  \n",
       "3  1150.000000  11.000000     1  \n",
       "4   928.779006   0.000000     1  "
      ]
     },
     "execution_count": 35,
     "metadata": {},
     "output_type": "execute_result"
    }
   ],
   "source": [
    "# Create dead indicator\n",
    "df['dead'] = np.where(df['status'] == 2, 1, 0) # If Status = 2, then dead (1), else alive (0)\n",
    "df.head()"
   ]
  },
  {
   "cell_type": "markdown",
   "metadata": {},
   "source": [
    "**Fit Kaplan-Meier Method on time and dead columns and plot Survival function**"
   ]
  },
  {
   "cell_type": "code",
   "execution_count": 38,
   "metadata": {},
   "outputs": [
    {
     "data": {
      "image/png": "[encoded data removed]",
      "text/plain": [
       "<Figure size 720x432 with 1 Axes>"
      ]
     },
     "metadata": {},
     "output_type": "display_data"
    }
   ],
   "source": [
    "kmf = lifelines.KaplanMeierFitter()\n",
    "kmf.fit(df['time'], df['dead'])\n",
    "\n",
    "# Add plot style\n",
    "plt.style.use('ggplot')\n",
    "plt.figure(figsize=(10, 6))\n",
    "\n",
    "# Plot the function\n",
    "kmf.plot(color='purple', linestyle='-')\n",
    "plt.title('Kaplan-Meier Survival Function')\n",
    "plt.xlabel('Time (Days)')\n",
    "plt.ylabel('Survival Probability')\n",
    "\n",
    "# Add reference line for 50% survival probability\n",
    "plt.axhline(y=0.5, color='blue', linestyle='--', linewidth=2)\n",
    "\n",
    "# Show the plot\n",
    "plt.show()"
   ]
  },
  {
   "cell_type": "markdown",
   "metadata": {},
   "source": [
    "### Part B"
   ]
  },
  {
   "cell_type": "markdown",
   "metadata": {},
   "source": [
    "**Median Survival time and Kaplan-Meier estimates (timeline vs. k-m Estimate)**"
   ]
  },
  {
   "cell_type": "code",
   "execution_count": 59,
   "metadata": {},
   "outputs": [
    {
     "name": "stdout",
     "output_type": "stream",
     "text": [
      "KMF Median Survival Time: 310.0 days\n"
     ]
    }
   ],
   "source": [
    "print('KMF Median Survival Time:', kmf.median_survival_time_, 'days')"
   ]
  },
  {
   "cell_type": "markdown",
   "metadata": {},
   "source": [
    "### Part C"
   ]
  },
  {
   "cell_type": "code",
   "execution_count": 43,
   "metadata": {
    "scrolled": true
   },
   "outputs": [
    {
     "name": "stdout",
     "output_type": "stream",
     "text": [
      "[   0.           10.32323232   20.64646465   30.96969697   41.29292929\n",
      "   51.61616162   61.93939394   72.26262626   82.58585859   92.90909091\n",
      "  103.23232323  113.55555556  123.87878788  134.2020202   144.52525253\n",
      "  154.84848485  165.17171717  175.49494949  185.81818182  196.14141414\n",
      "  206.46464646  216.78787879  227.11111111  237.43434343  247.75757576\n",
      "  258.08080808  268.4040404   278.72727273  289.05050505  299.37373737\n",
      "  309.6969697   320.02020202  330.34343434  340.66666667  350.98989899\n",
      "  361.31313131  371.63636364  381.95959596  392.28282828  402.60606061\n",
      "  412.92929293  423.25252525  433.57575758  443.8989899   454.22222222\n",
      "  464.54545455  474.86868687  485.19191919  495.51515152  505.83838384\n",
      "  516.16161616  526.48484848  536.80808081  547.13131313  557.45454545\n",
      "  567.77777778  578.1010101   588.42424242  598.74747475  609.07070707\n",
      "  619.39393939  629.71717172  640.04040404  650.36363636  660.68686869\n",
      "  671.01010101  681.33333333  691.65656566  701.97979798  712.3030303\n",
      "  722.62626263  732.94949495  743.27272727  753.5959596   763.91919192\n",
      "  774.24242424  784.56565657  794.88888889  805.21212121  815.53535354\n",
      "  825.85858586  836.18181818  846.50505051  856.82828283  867.15151515\n",
      "  877.47474747  887.7979798   898.12121212  908.44444444  918.76767677\n",
      "  929.09090909  939.41414141  949.73737374  960.06060606  970.38383838\n",
      "  980.70707071  991.03030303 1001.35353535 1011.67676768 1022.        ]\n"
     ]
    }
   ],
   "source": [
    "# Timeline\n",
    "print(np.linspace(0, df['time'].max(), num=100))"
   ]
  },
  {
   "cell_type": "code",
   "execution_count": 41,
   "metadata": {},
   "outputs": [
    {
     "name": "stdout",
     "output_type": "stream",
     "text": [
      "          KM_estimate\n",
      "timeline             \n",
      "0.0          1.000000\n",
      "5.0          0.995614\n",
      "11.0         0.982456\n",
      "12.0         0.978070\n",
      "13.0         0.969298\n",
      "15.0         0.964912\n",
      "26.0         0.960526\n",
      "30.0         0.956140\n",
      "31.0         0.951754\n",
      "53.0         0.942982\n",
      "54.0         0.938596\n",
      "59.0         0.934211\n",
      "60.0         0.925439\n",
      "61.0         0.921053\n",
      "62.0         0.916667\n",
      "65.0         0.907895\n",
      "71.0         0.903509\n",
      "79.0         0.899123\n",
      "81.0         0.890351\n",
      "88.0         0.881579\n",
      "92.0         0.877193\n",
      "93.0         0.872785\n",
      "95.0         0.863969\n",
      "105.0        0.859561\n",
      "107.0        0.850700\n",
      "110.0        0.846269\n",
      "116.0        0.841838\n",
      "118.0        0.837407\n",
      "122.0        0.832977\n",
      "131.0        0.828546\n",
      "132.0        0.819684\n",
      "135.0        0.815254\n",
      "142.0        0.810823\n",
      "144.0        0.806392\n",
      "145.0        0.797531\n",
      "147.0        0.793100\n",
      "153.0        0.788669\n",
      "156.0        0.779808\n",
      "163.0        0.766516\n",
      "166.0        0.757654\n",
      "167.0        0.753224\n",
      "170.0        0.748793\n",
      "173.0        0.748793\n",
      "174.0        0.748793\n",
      "175.0        0.744309\n",
      "176.0        0.739798\n",
      "177.0        0.735287\n",
      "179.0        0.726209\n",
      "180.0        0.721671\n",
      "181.0        0.712593\n",
      "182.0        0.708054\n",
      "183.0        0.703515\n",
      "185.0        0.703515\n",
      "186.0        0.698947\n",
      "188.0        0.698947\n",
      "189.0        0.694349\n",
      "191.0        0.694349\n",
      "192.0        0.694349\n",
      "194.0        0.689689\n",
      "196.0        0.689689\n",
      "197.0        0.684997\n",
      "199.0        0.680273\n",
      "201.0        0.670825\n",
      "202.0        0.666101\n",
      "203.0        0.666101\n",
      "207.0        0.661308\n",
      "208.0        0.656516\n",
      "210.0        0.651724\n",
      "211.0        0.651724\n",
      "212.0        0.646897\n",
      "218.0        0.642069\n",
      "221.0        0.642069\n",
      "222.0        0.637205\n",
      "223.0        0.632303\n",
      "224.0        0.632303\n",
      "225.0        0.632303\n",
      "226.0        0.627285\n",
      "229.0        0.622267\n",
      "230.0        0.617248\n",
      "235.0        0.617248\n",
      "237.0        0.617248\n",
      "239.0        0.607046\n",
      "240.0        0.607046\n",
      "243.0        0.607046\n",
      "245.0        0.601858\n",
      "246.0        0.596669\n",
      "252.0        0.596669\n",
      "259.0        0.596669\n",
      "266.0        0.596669\n",
      "267.0        0.591342\n",
      "268.0        0.586014\n",
      "269.0        0.580687\n",
      "270.0        0.575310\n",
      "272.0        0.575310\n",
      "276.0        0.575310\n",
      "279.0        0.575310\n",
      "283.0        0.569778\n",
      "284.0        0.564247\n",
      "285.0        0.553073\n",
      "286.0        0.547487\n",
      "288.0        0.541900\n",
      "291.0        0.536314\n",
      "292.0        0.536314\n",
      "293.0        0.530608\n",
      "296.0        0.530608\n",
      "300.0        0.530608\n",
      "301.0        0.524777\n",
      "303.0        0.518881\n",
      "305.0        0.512917\n",
      "306.0        0.506953\n",
      "310.0        0.495024\n",
      "315.0        0.495024\n",
      "320.0        0.488987\n",
      "329.0        0.482951\n",
      "332.0        0.482951\n",
      "337.0        0.476837\n",
      "340.0        0.470724\n",
      "345.0        0.464611\n",
      "348.0        0.458497\n",
      "350.0        0.452384\n",
      "351.0        0.446271\n",
      "353.0        0.434044\n",
      "356.0        0.434044\n",
      "361.0        0.427844\n",
      "363.0        0.415442\n",
      "364.0        0.409242\n",
      "371.0        0.396650\n",
      "376.0        0.396650\n",
      "382.0        0.396650\n",
      "384.0        0.396650\n",
      "387.0        0.390039\n",
      "390.0        0.383428\n",
      "394.0        0.376817\n",
      "404.0        0.376817\n",
      "413.0        0.376817\n",
      "426.0        0.369966\n",
      "428.0        0.363115\n",
      "429.0        0.356263\n",
      "433.0        0.349412\n",
      "442.0        0.342561\n",
      "444.0        0.335710\n",
      "450.0        0.328716\n",
      "455.0        0.321722\n",
      "457.0        0.314728\n",
      "458.0        0.314728\n",
      "460.0        0.307575\n",
      "473.0        0.300422\n",
      "477.0        0.293269\n",
      "511.0        0.293269\n",
      "519.0        0.285749\n",
      "520.0        0.278230\n",
      "524.0        0.263190\n",
      "529.0        0.263190\n",
      "533.0        0.255449\n",
      "543.0        0.255449\n",
      "550.0        0.247467\n",
      "551.0        0.247467\n",
      "558.0        0.239218\n",
      "559.0        0.239218\n",
      "567.0        0.230674\n",
      "574.0        0.222131\n",
      "583.0        0.213587\n",
      "588.0        0.213587\n",
      "613.0        0.204688\n",
      "624.0        0.195788\n",
      "641.0        0.186889\n",
      "643.0        0.177989\n",
      "654.0        0.169090\n",
      "655.0        0.160190\n",
      "687.0        0.151291\n",
      "689.0        0.142392\n",
      "705.0        0.133492\n",
      "707.0        0.124593\n",
      "728.0        0.115693\n",
      "731.0        0.106794\n",
      "735.0        0.097894\n",
      "740.0        0.097894\n",
      "765.0        0.088105\n",
      "791.0        0.078315\n",
      "806.0        0.078315\n",
      "814.0        0.067127\n",
      "821.0        0.067127\n",
      "840.0        0.067127\n",
      "883.0        0.050346\n",
      "965.0        0.050346\n",
      "1010.0       0.050346\n",
      "1022.0       0.050346\n"
     ]
    }
   ],
   "source": [
    "# Kaplan-Meier Estimates\n",
    "print(kmf.survival_function_.to_string())"
   ]
  },
  {
   "cell_type": "markdown",
   "metadata": {},
   "source": [
    "### Part D"
   ]
  },
  {
   "cell_type": "markdown",
   "metadata": {},
   "source": [
    "**Survival Function by Gender Plot**"
   ]
  },
  {
   "cell_type": "code",
   "execution_count": 48,
   "metadata": {},
   "outputs": [
    {
     "data": {
      "image/png": "[encoded data removed]",
      "text/plain": [
       "<Figure size 720x432 with 1 Axes>"
      ]
     },
     "metadata": {},
     "output_type": "display_data"
    }
   ],
   "source": [
    "# Create a combined plot for male and female groups\n",
    "kmf_male = KaplanMeierFitter()\n",
    "kmf_male.fit(df.loc[df['sex']==1, 'time'], \n",
    "             event_observed=df.loc[df['sex']==1, 'dead'], label='Male')\n",
    "\n",
    "kmf_female = KaplanMeierFitter()\n",
    "kmf_female.fit(df.loc[df['sex']==2, 'time'], \n",
    "               event_observed=df.loc[df['sex']==2, 'dead'], label='Female')\n",
    "\n",
    "# Add plot style\n",
    "plt.style.use('ggplot')\n",
    "plt.figure(figsize=(10, 6))\n",
    "\n",
    "# Plot the functions\n",
    "ax = kmf_male.plot(color='Purple')\n",
    "kmf_female.plot(ax=ax, color='orange')\n",
    "plt.title('Survival Function by Gender')\n",
    "plt.xlabel('Time (Days)')\n",
    "plt.ylabel('Survival Probability')\n",
    "\n",
    "# Add reference line for 50% survival probability\n",
    "plt.axhline(y=0.5, color='blue', linestyle='--', linewidth=2)\n",
    "\n",
    "# Add legend\n",
    "plt.legend()\n",
    "\n",
    "# Show the plot\n",
    "plt.show()"
   ]
  },
  {
   "cell_type": "markdown",
   "metadata": {},
   "source": [
    "### Part E"
   ]
  },
  {
   "cell_type": "markdown",
   "metadata": {},
   "source": [
    "**Log-Rank Test - Null Hypothesis = No Difference in Survival Between Male & Female**"
   ]
  },
  {
   "cell_type": "code",
   "execution_count": 53,
   "metadata": {},
   "outputs": [],
   "source": [
    "from lifelines.statistics import logrank_test"
   ]
  },
  {
   "cell_type": "code",
   "execution_count": 68,
   "metadata": {},
   "outputs": [
    {
     "name": "stdout",
     "output_type": "stream",
     "text": [
      "Log-Rank Test Results:\n",
      "Test Statistic: 10.326741954885662\n",
      "P-value: 0.0013111645203554667\n",
      "\n",
      "Based off the low p-value, at an alpha level of 5%, we would reject the Null Hypothesis and conclude there is a difference in survival rates between men and women. \n"
     ]
    }
   ],
   "source": [
    "results = logrank_test(df.loc[df['sex']==1, 'time'], #Male \n",
    "                       df.loc[df['sex']==2, 'time'], #Female\n",
    "                       event_observed_A=df.loc[df['sex']==1, 'dead'],\n",
    "                       event_observed_B=df.loc[df['sex']==2, 'dead'])\n",
    "\n",
    "print('Log-Rank Test Results:')\n",
    "print('Test Statistic:', results.test_statistic)\n",
    "print('P-value:', results.p_value)\n",
    "print('')\n",
    "print('Based off the low p-value, at an alpha level of 5%, we would reject the Null Hypothesis and conclude there is a difference in survival rates between men and women. ')"
   ]
  }
 ],
 "metadata": {
  "kernelspec": {
   "display_name": "Python 3",
   "language": "python",
   "name": "python3"
  },
  "language_info": {
   "codemirror_mode": {
    "name": "ipython",
    "version": 3
   },
   "file_extension": ".py",
   "mimetype": "text/x-python",
   "name": "python",
   "nbconvert_exporter": "python",
   "pygments_lexer": "ipython3",
   "version": "3.8.3"
  }
 },
 "nbformat": 4,
 "nbformat_minor": 4
}
